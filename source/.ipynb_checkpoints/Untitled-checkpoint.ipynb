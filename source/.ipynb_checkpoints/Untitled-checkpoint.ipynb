{
 "cells": [
  {
   "cell_type": "markdown",
   "metadata": {},
   "source": [
    "# Python for Applied Analysis of Marine Data\n",
    "\n",
    "Example jupyter notebook to illustrate some of its uses"
   ]
  },
  {
   "cell_type": "markdown",
   "metadata": {},
   "source": [
    "## Getting Started\n",
    "Download this .ipynb file to a directoy on your computer and invoke jupyter notebook in that directory\n",
    "\n",
    "### What's this notebook thing?\n",
    "\n",
    "A notebook contains a series of cells that contain plain text or programming syntax. Cells are arranged one on top of the other, vertically down the page. When the notebook is 'run', the content of the cells is executed in sequence. \n",
    "\n",
    "#### Navigation\n",
    "You can move around the cells using the up and down arrows on the keyboard.\n",
    "\n",
    "Cells have two modes - editing (border is coloured green) or command (border is coloured blue). \n",
    "\n",
    "Position your cursor in a cell turns editing mode on, pressing **ESC** toggles the mode to command. \n",
    "\n",
    "In command mode, pressing **h** will show you keyboard shortcuts for navigation (and a lot of other functions like running cells or inserting new cells!)"
   ]
  },
  {
   "cell_type": "markdown",
   "metadata": {},
   "source": [
    "### Running Cells\n",
    "In command mode the contents of the cell can be executed by pressing **Cell > Run Cell** in the drop down menu at the top of the screen, by pressing the play button icon, or using the keyboard short cut **Ctrl-Enter** \n",
    "\n",
    "After execution, output of the cell is displayed below it. Try running the cell below:"
   ]
  },
  {
   "cell_type": "code",
   "execution_count": null,
   "metadata": {
    "collapsed": true
   },
   "outputs": [],
   "source": [
    "2+3"
   ]
  },
  {
   "cell_type": "code",
   "execution_count": null,
   "metadata": {
    "collapsed": true
   },
   "outputs": [],
   "source": [
    "print('Hello! Welcome to a notebook!')"
   ]
  },
  {
   "cell_type": "markdown",
   "metadata": {},
   "source": [
    "### Saving your work\n",
    "Select **File > Save and Checkpoint** from the menu. There are also shortcuts for this ... any idea how to find out what they are?"
   ]
  },
  {
   "cell_type": "markdown",
   "metadata": {},
   "source": [
    "### Explaining you analysis process and code\n",
    "One of the great things about the notebook is that you can mix plain text describing/explaining what you're doing along with the runnable code that does the calculations. It's kind of like a lab notebook for showing your workings!\n",
    "\n",
    "Within a cell containing code, you can add comments using the # symbol:"
   ]
  },
  {
   "cell_type": "code",
   "execution_count": null,
   "metadata": {
    "collapsed": true
   },
   "outputs": [],
   "source": [
    "# this is a cell containing code to print a number:\n",
    "N=10\n",
    "print(N)"
   ]
  },
  {
   "cell_type": "markdown",
   "metadata": {},
   "source": [
    "Longer comments or explanations should be written in seperate cells using a markup syntax called MarkDown.\n",
    "\n",
    "You can find out more about the syntax here: [MarkDown cheatsheet]:https://github.com/adam-p/markdown-here/wiki/Markdown-Cheatsheet\n",
    "\n",
    "You can also look at the MarkDown of this notebook by double clicking on any of the formatted text. Run the cell to turn the plain text MarkDown into formatted text for display/easy reading.\n",
    "\n",
    "It's basically plain text with some special symbols. Typing MarkDown into a cell, entering command mode and pressing **M** to turn the cell into one containing markdown. Then you can run the cell to format for display."
   ]
  },
  {
   "cell_type": "markdown",
   "metadata": {},
   "source": [
    "Hey my name is **put_you_name_here**"
   ]
  }
 ],
 "metadata": {
  "kernelspec": {
   "display_name": "Python 3",
   "language": "python",
   "name": "python3"
  },
  "language_info": {
   "codemirror_mode": {
    "name": "ipython",
    "version": 3
   },
   "file_extension": ".py",
   "mimetype": "text/x-python",
   "name": "python",
   "nbconvert_exporter": "python",
   "pygments_lexer": "ipython3",
   "version": "3.6.0"
  }
 },
 "nbformat": 4,
 "nbformat_minor": 2
}
